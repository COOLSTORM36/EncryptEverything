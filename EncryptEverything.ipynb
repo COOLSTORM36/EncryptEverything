{
  "nbformat": 4,
  "nbformat_minor": 0,
  "metadata": {
    "colab": {
      "provenance": [],
      "authorship_tag": "ABX9TyMT8gpBVTS4luBEqEA03nKf",
      "include_colab_link": true
    },
    "kernelspec": {
      "name": "python3",
      "display_name": "Python 3"
    },
    "language_info": {
      "name": "python"
    }
  },
  "cells": [
    {
      "cell_type": "markdown",
      "metadata": {
        "id": "view-in-github",
        "colab_type": "text"
      },
      "source": [
        "<a href=\"https://colab.research.google.com/github/COOLSTORM36/EncryptEverything/blob/main/EncryptEverything.ipynb\" target=\"_parent\"><img src=\"https://colab.research.google.com/assets/colab-badge.svg\" alt=\"Open In Colab\"/></a>"
      ]
    },
    {
      "cell_type": "markdown",
      "source": [
        "# EncryptEverything"
      ],
      "metadata": {
        "id": "3IKw-2OtJ82w"
      }
    },
    {
      "cell_type": "markdown",
      "source": [
        "## I'm going to use the cryptography as the library"
      ],
      "metadata": {
        "id": "LmQbiuAWJgkL"
      }
    },
    {
      "cell_type": "code",
      "execution_count": null,
      "metadata": {
        "colab": {
          "base_uri": "https://localhost:8080/"
        },
        "id": "Nf8DixDwJY1L",
        "outputId": "f83ca789-8471-4a27-b509-993f2f59da7b"
      },
      "outputs": [
        {
          "output_type": "stream",
          "name": "stdout",
          "text": [
            "Requirement already satisfied: cryptography in /usr/local/lib/python3.10/dist-packages (43.0.3)\n",
            "Requirement already satisfied: cffi>=1.12 in /usr/local/lib/python3.10/dist-packages (from cryptography) (1.17.1)\n",
            "Requirement already satisfied: pycparser in /usr/local/lib/python3.10/dist-packages (from cffi>=1.12->cryptography) (2.22)\n"
          ]
        }
      ],
      "source": [
        "!pip install cryptography"
      ]
    },
    {
      "cell_type": "markdown",
      "source": [
        "## Prerequisite"
      ],
      "metadata": {
        "id": "vSmMpRa_K4u9"
      }
    },
    {
      "cell_type": "code",
      "source": [
        "from cryptography.fernet import Fernet\n",
        "from cryptography.hazmat.primitives import hashes\n",
        "from cryptography.hazmat.primitives.ciphers import Cipher, algorithms, modes\n",
        "from cryptography.hazmat.primitives.kdf.pbkdf2 import PBKDF2HMAC\n",
        "import base64\n",
        "import secrets\n",
        "import os\n",
        "\n",
        "from cryptography.hazmat.primitives.ciphers.algorithms import AES256"
      ],
      "metadata": {
        "id": "hUEXqKamK4W8"
      },
      "execution_count": 19,
      "outputs": []
    },
    {
      "cell_type": "markdown",
      "source": [
        "## Generate the custom key from password"
      ],
      "metadata": {
        "id": "iDNGtA1BOVVU"
      }
    },
    {
      "cell_type": "code",
      "source": [
        "def generate_key_from_password(password, salt):\n",
        "    kdf = PBKDF2HMAC(\n",
        "        algorithm=hashes.SHA256(),\n",
        "        length=32,\n",
        "        salt=salt,\n",
        "        iterations=100000,\n",
        "    )\n",
        "\n",
        "    key = kdf.derive(password.encode())\n",
        "\n",
        "    return key"
      ],
      "metadata": {
        "id": "d2sBZleVlgXj"
      },
      "execution_count": 81,
      "outputs": []
    },
    {
      "cell_type": "markdown",
      "source": [
        "## Generate random password"
      ],
      "metadata": {
        "id": "8lY2ijFYdest"
      }
    },
    {
      "cell_type": "code",
      "source": [
        "def generate_random_password():\n",
        "    length = 16\n",
        "    password = secrets.token_urlsafe(length)\n",
        "    print(\"Generated a new password, please keep it safe(only shown once):\", password)\n",
        "\n",
        "    return password"
      ],
      "metadata": {
        "id": "PNcydJKbdkLW"
      },
      "execution_count": 61,
      "outputs": []
    },
    {
      "cell_type": "markdown",
      "source": [
        "## Method Block(Fernet)"
      ],
      "metadata": {
        "id": "ouOFaxZ2Jx8e"
      }
    },
    {
      "cell_type": "markdown",
      "source": [
        "### Fernet encrypt"
      ],
      "metadata": {
        "id": "vrHbMitfSS1l"
      }
    },
    {
      "cell_type": "code",
      "source": [
        "# Encrypt file using Fernet\n",
        "def fernet_encrypt_file(file_path, password=None):\n",
        "    # Read the data from the file\n",
        "    try:\n",
        "        with open(file_path, \"rb\") as file:\n",
        "            file_data = file.read()\n",
        "    except FileNotFoundError:\n",
        "        print(f\"File not found: {file_path}\")\n",
        "        return\n",
        "\n",
        "    # Detect if user input password\n",
        "    if not password:\n",
        "        password = generate_random_password()\n",
        "\n",
        "    # Generate a random salt\n",
        "    salt = os.urandom(16)\n",
        "    key = base64.urlsafe_b64encode(generate_key_from_password(password, salt))\n",
        "\n",
        "    # Get the original file extension\n",
        "    file_path_no_ext, file_extension = os.path.splitext(file_path)\n",
        "\n",
        "    # Create the key to encrypt the file\n",
        "    f = Fernet(key)\n",
        "    encrypted_data = f.encrypt(file_data)\n",
        "    encrypted_extension = f.encrypt(file_extension.encode())\n",
        "\n",
        "    # Create the encrpted file in the same direcotry\n",
        "    encrypted_file_content = salt + encrypted_extension + b\"||\" + encrypted_data\n",
        "    encrypted_file_path = file_path_no_ext + '.ee'\n",
        "\n",
        "    with open(encrypted_file_path, \"wb\") as encrypted_file:\n",
        "        encrypted_file.write(encrypted_file_content)\n",
        "\n",
        "    print(f\"File encrypted successfully to {encrypted_file_path}\")\n",
        "\n",
        "    return None"
      ],
      "metadata": {
        "id": "Vi9enNV4MOUS"
      },
      "execution_count": 80,
      "outputs": []
    },
    {
      "cell_type": "markdown",
      "source": [
        "### Fernet decrypt"
      ],
      "metadata": {
        "id": "JbvzR2X5SXnB"
      }
    },
    {
      "cell_type": "code",
      "source": [
        "def fernet_decrypt_file(file_path, password):\n",
        "    # Open the encrypted file\n",
        "    try:\n",
        "        with open(file_path, \"rb\") as encrypted_file:\n",
        "            encrypted_file_content = encrypted_file.read()\n",
        "    except FileNotFoundError:\n",
        "        print(f\"File not found: {file_path}\")\n",
        "        return\n",
        "\n",
        "    # Detect if file is deprecated\n",
        "    try:\n",
        "        # Fetch the Salt, Extension, and Original Contents\n",
        "        salt = encrypted_file_content[:16]\n",
        "        remining_content = encrypted_file_content[16:]\n",
        "        encrypted_extension, encrypted_data = remining_content.split(b\"||\", 1)\n",
        "\n",
        "        key = base64.urlsafe_b64encode(generate_key_from_password(password, salt))\n",
        "        # Decrypt the data\n",
        "        f = Fernet(key)\n",
        "        file_extension = f.decrypt(encrypted_extension).decode()\n",
        "        decrypted_data = f.decrypt(encrypted_data)\n",
        "\n",
        "        # Save the data\n",
        "        decrypted_file_path = os.path.splitext(\"/content/sample_data/README.ee\")[0] + file_extension\n",
        "        with open(decrypted_file_path, \"wb\") as decrypted_file:\n",
        "            decrypted_file.write(decrypted_data)\n",
        "\n",
        "        print(f\"File decrypted successfully to {decrypted_file_path}\")\n",
        "\n",
        "        return None\n",
        "\n",
        "    except:\n",
        "        return \"Invalid Password or Deprecated File\""
      ],
      "metadata": {
        "id": "zTxOmHfhTJ51"
      },
      "execution_count": 87,
      "outputs": []
    },
    {
      "cell_type": "code",
      "source": [
        "fernet_encrypt_file(\"/content/sample_data/README.md\", \"password\")"
      ],
      "metadata": {
        "colab": {
          "base_uri": "https://localhost:8080/"
        },
        "id": "7kZ__iMkQWDo",
        "outputId": "6931bd92-9f69-4082-8c9c-e53c95cde6a1"
      },
      "execution_count": 85,
      "outputs": [
        {
          "output_type": "stream",
          "name": "stdout",
          "text": [
            "File encrypted successfully to /content/sample_data/README.ee\n"
          ]
        }
      ]
    },
    {
      "cell_type": "code",
      "source": [
        "fernet_decrypt_file('/content/sample_data/README.ee',\"password\")"
      ],
      "metadata": {
        "colab": {
          "base_uri": "https://localhost:8080/"
        },
        "id": "jZ_pn1zsTatN",
        "outputId": "88fdec1a-9106-491e-9b89-518102f46f42"
      },
      "execution_count": 88,
      "outputs": [
        {
          "output_type": "stream",
          "name": "stdout",
          "text": [
            "File decrypted successfully to /content/sample_data/README.md\n"
          ]
        }
      ]
    },
    {
      "cell_type": "markdown",
      "source": [
        "## Method block(AES-256)"
      ],
      "metadata": {
        "id": "fFaibpfh0iPG"
      }
    },
    {
      "cell_type": "markdown",
      "source": [
        "## AES-256 Encrypt"
      ],
      "metadata": {
        "id": "FK5V6zVXdVti"
      }
    },
    {
      "cell_type": "code",
      "source": [
        "def aes_256_encrypt_file(file_path, password=None):\n",
        "    # Read the data from the file\n",
        "    try:\n",
        "        with open(file_path, \"rb\") as file:\n",
        "            file_data = file.read()\n",
        "    except FileNotFoundError:\n",
        "        print(f\"File not found: {file_path}\")\n",
        "        return\n",
        "\n",
        "    # Detect user if input password\n",
        "    if not password:\n",
        "        password = generate_random_password()\n",
        "\n",
        "    # Generate a random salt and nonce\n",
        "    salt = os.urandom(16)\n",
        "    nonce = os.urandom(12)\n",
        "\n",
        "    key = generate_key_from_password(password, salt)\n",
        "\n",
        "    # Create AES cipher in GCM mode\n",
        "    cipher = Cipher(algorithms.AES(key), modes.GCM(nonce))\n",
        "    encryptor = cipher.encryptor()\n",
        "\n",
        "    # Encrypt the data\n",
        "    cipher_text = encryptor.update(file_data) + encryptor.finalize()\n",
        "\n",
        "    print(len(cipher_text))\n",
        "\n",
        "    return None"
      ],
      "metadata": {
        "id": "1nqK6Qga2F_r"
      },
      "execution_count": 91,
      "outputs": []
    },
    {
      "cell_type": "markdown",
      "source": [
        "## AES-256 Decrypt"
      ],
      "metadata": {
        "id": "tnCBkQ1HNg8A"
      }
    },
    {
      "cell_type": "code",
      "source": [
        "aes_256_encrypt_file(\"/content/sample_data/README.md\")"
      ],
      "metadata": {
        "colab": {
          "base_uri": "https://localhost:8080/"
        },
        "id": "AzrDWk4acqhS",
        "outputId": "cab1a8ed-f2ad-44c9-a250-53b671924e26"
      },
      "execution_count": 90,
      "outputs": [
        {
          "output_type": "stream",
          "name": "stdout",
          "text": [
            "Generated a new password, please keep it safe(only shown once): FwhYayn_fC4iN4Xph3TNtw\n",
            "32\n",
            "962\n"
          ]
        }
      ]
    }
  ]
}